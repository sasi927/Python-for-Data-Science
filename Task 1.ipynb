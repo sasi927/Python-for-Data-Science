{
 "cells": [
  {
   "cell_type": "code",
   "execution_count": 4,
   "id": "f37ed444-9dbb-4eaa-908a-63adf35bcec1",
   "metadata": {},
   "outputs": [
    {
     "name": "stdout",
     "output_type": "stream",
     "text": [
      "[9, 4, 5, 'abcde', 37]\n"
     ]
    }
   ],
   "source": [
    "#List\n",
    "\n",
    "myList = [9,2,4,5,6]\n",
    "\n",
    "#Adding an element in List\n",
    "myList.append(37)\n",
    "\n",
    "#Removing an element from the list\n",
    "myList.remove(2)\n",
    "\n",
    "#Updating a list\n",
    "myList[3] = \"abcde\"\n",
    "\n",
    "print(myList)"
   ]
  },
  {
   "cell_type": "code",
   "execution_count": 8,
   "id": "1cd2aefb-0e9f-4e62-b256-dffcfd76db43",
   "metadata": {},
   "outputs": [
    {
     "name": "stdout",
     "output_type": "stream",
     "text": [
      "{'name': 'Johan Libert', 'city': 'Kolkata', 'car': 'Mercedes'}\n"
     ]
    }
   ],
   "source": [
    "#Dictionary\n",
    "\n",
    "myDict = {\n",
    "    \"name\" : \"Johan Libert\",\n",
    "    \"age\" : 27,\n",
    "    \"city\" : \"New delhi\"\n",
    "}\n",
    "\n",
    "#Adding an element in the dictionary\n",
    "myDict[\"car\"] = \"Mercedes\"\n",
    "\n",
    "#Deleting an item  from the dictionary\n",
    "del myDict[\"age\"]\n",
    "\n",
    "#update an item in the dictionary\n",
    "myDict[\"city\"] = \"Kolkata\"\n",
    "\n",
    "print(myDict)"
   ]
  },
  {
   "cell_type": "code",
   "execution_count": 13,
   "id": "1a7e74f3-3296-442b-bf2e-67776b3b8107",
   "metadata": {},
   "outputs": [
    {
     "name": "stdout",
     "output_type": "stream",
     "text": [
      "{'cherry', 'orange', 'apple'}\n"
     ]
    }
   ],
   "source": [
    "#Set\n",
    "\n",
    "mySet = {\"apple\" , \"banana\" , \"cherry\"}\n",
    "\n",
    "#adding an item in the set\n",
    "mySet.add(\"orange\")\n",
    "\n",
    "#removing an item in the set\n",
    "mySet.remove(\"banana\")\n",
    "\n",
    "print(mySet)"
   ]
  },
  {
   "cell_type": "code",
   "execution_count": null,
   "id": "e00ff945-957b-4d4a-8a75-7997b780e477",
   "metadata": {},
   "outputs": [],
   "source": []
  }
 ],
 "metadata": {
  "kernelspec": {
   "display_name": "Python 3 (ipykernel)",
   "language": "python",
   "name": "python3"
  },
  "language_info": {
   "codemirror_mode": {
    "name": "ipython",
    "version": 3
   },
   "file_extension": ".py",
   "mimetype": "text/x-python",
   "name": "python",
   "nbconvert_exporter": "python",
   "pygments_lexer": "ipython3",
   "version": "3.12.3"
  }
 },
 "nbformat": 4,
 "nbformat_minor": 5
}
